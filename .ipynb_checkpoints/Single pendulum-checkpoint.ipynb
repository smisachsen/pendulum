{
 "cells": [
  {
   "cell_type": "code",
   "execution_count": 1,
   "metadata": {},
   "outputs": [],
   "source": [
    "from custom_environments import PendulumEnvironment\n",
    "from tensorforce import Agent, Runner"
   ]
  },
  {
   "cell_type": "code",
   "execution_count": 2,
   "metadata": {},
   "outputs": [],
   "source": []
  },
  {
   "cell_type": "code",
   "execution_count": 3,
   "metadata": {},
   "outputs": [],
   "source": [
    "env = PendulumEnvironment(dt = 0.01, num_actuations = 10, max_episode_timesteps = 200)\n",
    "\n",
    "\n",
    "network = [dict(type='dense', size=512),\n",
    "           dict(type='dense', size=512)]\n",
    "\n"
   ]
  },
  {
   "cell_type": "code",
   "execution_count": null,
   "metadata": {},
   "outputs": [],
   "source": [
    "agent = Agent.create(\n",
    "    # Agent + Environment\n",
    "    agent=\"ppo\",\n",
    "\n",
    "    environment=env,\n",
    "\n",
    "    # Network\n",
    "    network=network,\n",
    "\n",
    "    # Optimization\n",
    "    batch_size=64,\n",
    "    learning_rate=3e-4,\n",
    "    subsampling_fraction=0.2,\n",
    "    optimization_steps=50,\n",
    "    discount = 0.999,\n",
    "\n",
    "\n",
    "    # Reward estimation\n",
    "    likelihood_ratio_clipping=0.2,\n",
    "    estimate_terminal=True,\n",
    "    # Critic\n",
    "    critic_network=[dict(type='dense', size=64),\n",
    "               dict(type='dense', size=64)],\n",
    "\n",
    "    critic_optimizer=dict(\n",
    "        type='multi_step', num_steps= 5,\n",
    "        optimizer=dict(type='adam', learning_rate=1e-3)\n",
    "    ),\n",
    "    # Regularization\n",
    "    entropy_regularization=0.01\n",
    ")"
   ]
  },
  {
   "cell_type": "code",
   "execution_count": 4,
   "metadata": {},
   "outputs": [
    {
     "name": "stdout",
     "output_type": "stream",
     "text": [
      "WARNING:tensorflow:From c:\\users\\stian\\appdata\\local\\programs\\python\\python37\\lib\\site-packages\\tensorflow_core\\python\\ops\\resource_variable_ops.py:1630: calling BaseResourceVariable.__init__ (from tensorflow.python.ops.resource_variable_ops) with constraint is deprecated and will be removed in a future version.\n",
      "Instructions for updating:\n",
      "If using Keras pass *_constraint arguments to layers.\n",
      "INFO:tensorflow:Graph was finalized.\n",
      "INFO:tensorflow:Running local_init_op.\n",
      "INFO:tensorflow:Done running local_init_op.\n"
     ]
    }
   ],
   "source": [
    "agent = Agent.create(\n",
    "    agent = \"dqn\",\n",
    "    \n",
    "    environment = env,\n",
    "    \n",
    "    network = network,\n",
    "    memory = 1000,\n",
    "    batch_size = 40,\n",
    "    \n",
    "    learning_rate = 1e-3,\n",
    "    discount = 0.999,\n",
    "#     exploration = dict(dtype = \"float\", unit = \"updates\",\n",
    "#                         initial_value = 1.0, decay_steps = 300, decay = \"polynomial\",\n",
    "#                       final_value = 0.1),\n",
    "    \n",
    "    exploration = 0.2,\n",
    "    \n",
    "    l2_regularization = 0.01,\n",
    "    entropy_regularization=0.01\n",
    ")"
   ]
  },
  {
   "cell_type": "code",
   "execution_count": 5,
   "metadata": {},
   "outputs": [
    {
     "name": "stderr",
     "output_type": "stream",
     "text": [
      "Episodes: 100%|██████████████████████| 500/500 [20:22, reward=-362.96, ts/ep=200, sec/ep=2.70, ms/ts=13.5, agent=98.3%]"
     ]
    }
   ],
   "source": [
    "num_train_episodes = 500\n",
    "\n",
    "runner = Runner(agent = agent, environment = env)\n",
    "runner.run(num_episodes = num_train_episodes)"
   ]
  },
  {
   "cell_type": "code",
   "execution_count": null,
   "metadata": {},
   "outputs": [],
   "source": [
    "agent.save(directory = \"models\", filename = \"ppo_custom_pendulum1\")\n"
   ]
  }
 ],
 "metadata": {
  "kernelspec": {
   "display_name": "Python 3",
   "language": "python",
   "name": "python3"
  },
  "language_info": {
   "codemirror_mode": {
    "name": "ipython",
    "version": 3
   },
   "file_extension": ".py",
   "mimetype": "text/x-python",
   "name": "python",
   "nbconvert_exporter": "python",
   "pygments_lexer": "ipython3",
   "version": "3.7.3"
  }
 },
 "nbformat": 4,
 "nbformat_minor": 2
}
